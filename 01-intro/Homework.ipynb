{
 "cells": [
  {
   "cell_type": "code",
   "execution_count": 1,
   "id": "95054fe3",
   "metadata": {},
   "outputs": [],
   "source": [
    "import pandas as pd\n",
    "import numpy as np\n",
    "import copy\n",
    "from sklearn.feature_extraction import DictVectorizer\n",
    "from sklearn.linear_model import LinearRegression\n",
    "from sklearn.metrics import mean_squared_error"
   ]
  },
  {
   "cell_type": "code",
   "execution_count": 2,
   "id": "b20fe860",
   "metadata": {},
   "outputs": [],
   "source": [
    "df202301 = pd.read_parquet('https://d37ci6vzurychx.cloudfront.net/trip-data/yellow_tripdata_2023-01.parquet')\n",
    "df202302 = pd.read_parquet('https://d37ci6vzurychx.cloudfront.net/trip-data/yellow_tripdata_2023-02.parquet')"
   ]
  },
  {
   "cell_type": "code",
   "execution_count": 3,
   "id": "4f6d00af",
   "metadata": {},
   "outputs": [
    {
     "data": {
      "text/plain": [
       "(3066766, 19)"
      ]
     },
     "execution_count": 3,
     "metadata": {},
     "output_type": "execute_result"
    }
   ],
   "source": [
    "df202301.shape"
   ]
  },
  {
   "cell_type": "markdown",
   "id": "2bd586f0",
   "metadata": {},
   "source": [
    "###### Q1 There are 19 columns"
   ]
  },
  {
   "cell_type": "code",
   "execution_count": 4,
   "id": "ea8e59c0",
   "metadata": {},
   "outputs": [],
   "source": [
    "def get_duration(dataframe):\n",
    "    dataframe['duration'] = dataframe['tpep_dropoff_datetime']-dataframe['tpep_pickup_datetime']\n",
    "    dataframe['duration'] = dataframe['duration'].map(lambda x:round(x.total_seconds()/60, 2))\n",
    "    return dataframe"
   ]
  },
  {
   "cell_type": "code",
   "execution_count": 5,
   "id": "11995178",
   "metadata": {},
   "outputs": [],
   "source": [
    "df202301 = get_duration(df202301)\n",
    "df202302 = get_duration(df202302)"
   ]
  },
  {
   "cell_type": "code",
   "execution_count": 6,
   "id": "4af9ca2a",
   "metadata": {},
   "outputs": [
    {
     "data": {
      "text/plain": [
       "42.59434623473485"
      ]
     },
     "execution_count": 6,
     "metadata": {},
     "output_type": "execute_result"
    }
   ],
   "source": [
    "np.std(df202301.duration)"
   ]
  },
  {
   "cell_type": "markdown",
   "id": "8c6def85",
   "metadata": {},
   "source": [
    "##### Q2 Standard deviation of the trips duration in Janurary is 42.59"
   ]
  },
  {
   "cell_type": "code",
   "execution_count": 7,
   "id": "5097dcde",
   "metadata": {},
   "outputs": [],
   "source": [
    "df = df202301[(df202301['duration']>=1) & (df202301['duration'] <= 60)]"
   ]
  },
  {
   "cell_type": "code",
   "execution_count": 8,
   "id": "95ec4e20",
   "metadata": {},
   "outputs": [
    {
     "data": {
      "text/plain": [
       "0.9812202822125979"
      ]
     },
     "execution_count": 8,
     "metadata": {},
     "output_type": "execute_result"
    }
   ],
   "source": [
    "df.shape[0]/df202301.shape[0]"
   ]
  },
  {
   "cell_type": "markdown",
   "id": "016fcbd1",
   "metadata": {},
   "source": [
    "###### Q3 98% of the records left after dropping outliers"
   ]
  },
  {
   "cell_type": "code",
   "execution_count": 9,
   "id": "16fec251",
   "metadata": {},
   "outputs": [
    {
     "name": "stderr",
     "output_type": "stream",
     "text": [
      "/tmp/ipykernel_13379/3729636684.py:1: SettingWithCopyWarning: \n",
      "A value is trying to be set on a copy of a slice from a DataFrame.\n",
      "Try using .loc[row_indexer,col_indexer] = value instead\n",
      "\n",
      "See the caveats in the documentation: https://pandas.pydata.org/pandas-docs/stable/user_guide/indexing.html#returning-a-view-versus-a-copy\n",
      "  df['PULocationID'] = df['PULocationID'].map(lambda x:str(x))\n",
      "/tmp/ipykernel_13379/3729636684.py:2: SettingWithCopyWarning: \n",
      "A value is trying to be set on a copy of a slice from a DataFrame.\n",
      "Try using .loc[row_indexer,col_indexer] = value instead\n",
      "\n",
      "See the caveats in the documentation: https://pandas.pydata.org/pandas-docs/stable/user_guide/indexing.html#returning-a-view-versus-a-copy\n",
      "  df['DOLocationID'] = df['DOLocationID'].map(lambda x:str(x))\n"
     ]
    }
   ],
   "source": [
    "df['PULocationID'] = df['PULocationID'].map(lambda x:str(x))\n",
    "df['DOLocationID'] = df['DOLocationID'].map(lambda x:str(x))"
   ]
  },
  {
   "cell_type": "code",
   "execution_count": 10,
   "id": "1591d2b2",
   "metadata": {},
   "outputs": [],
   "source": [
    "df_location = df[['PULocationID', 'DOLocationID']]"
   ]
  },
  {
   "cell_type": "code",
   "execution_count": 11,
   "id": "d719c20d",
   "metadata": {},
   "outputs": [],
   "source": [
    "location_dict = df_location.to_dict('records')"
   ]
  },
  {
   "cell_type": "code",
   "execution_count": 17,
   "id": "44a5315c",
   "metadata": {},
   "outputs": [],
   "source": [
    "vectorizer = DictVectorizer()\n",
    "X = vectorizer.fit_transform(location_dict)"
   ]
  },
  {
   "cell_type": "code",
   "execution_count": 18,
   "id": "bcd7fd15",
   "metadata": {},
   "outputs": [
    {
     "data": {
      "text/plain": [
       "(3009173, 515)"
      ]
     },
     "execution_count": 18,
     "metadata": {},
     "output_type": "execute_result"
    }
   ],
   "source": [
    "X.shape"
   ]
  },
  {
   "cell_type": "markdown",
   "id": "4ebed1bd",
   "metadata": {},
   "source": [
    "##### Q4 Dimension of the matrix is 515"
   ]
  },
  {
   "cell_type": "code",
   "execution_count": 21,
   "id": "dfe76cf7",
   "metadata": {},
   "outputs": [],
   "source": [
    "y = np.array(df['duration'])"
   ]
  },
  {
   "cell_type": "code",
   "execution_count": 22,
   "id": "836c85c7",
   "metadata": {},
   "outputs": [],
   "source": [
    "lr = LinearRegression().fit(X,y)"
   ]
  },
  {
   "cell_type": "code",
   "execution_count": 23,
   "id": "9f50fc4a",
   "metadata": {},
   "outputs": [],
   "source": [
    "y_pred = lr.predict(X)\n",
    "mse = mean_squared_error(y_pred, y)"
   ]
  },
  {
   "cell_type": "code",
   "execution_count": 24,
   "id": "992b2306",
   "metadata": {},
   "outputs": [
    {
     "data": {
      "text/plain": [
       "7.6492606820206674"
      ]
     },
     "execution_count": 24,
     "metadata": {},
     "output_type": "execute_result"
    }
   ],
   "source": [
    "np.sqrt(mse)"
   ]
  },
  {
   "cell_type": "markdown",
   "id": "b0855582",
   "metadata": {},
   "source": [
    "##### Q5 RMSE on the train is 7.64"
   ]
  },
  {
   "cell_type": "code",
   "execution_count": 14,
   "id": "0bbab878",
   "metadata": {},
   "outputs": [],
   "source": [
    "df2 = df202302[(df202302.duration >= 1) & (df202302.duration <= 60)]"
   ]
  },
  {
   "cell_type": "code",
   "execution_count": 15,
   "id": "53a69156",
   "metadata": {},
   "outputs": [
    {
     "name": "stderr",
     "output_type": "stream",
     "text": [
      "/tmp/ipykernel_13379/3200427470.py:1: SettingWithCopyWarning: \n",
      "A value is trying to be set on a copy of a slice from a DataFrame.\n",
      "Try using .loc[row_indexer,col_indexer] = value instead\n",
      "\n",
      "See the caveats in the documentation: https://pandas.pydata.org/pandas-docs/stable/user_guide/indexing.html#returning-a-view-versus-a-copy\n",
      "  df2['PULocationID'] = df2['PULocationID'].apply(lambda x:str(x))\n",
      "/tmp/ipykernel_13379/3200427470.py:2: SettingWithCopyWarning: \n",
      "A value is trying to be set on a copy of a slice from a DataFrame.\n",
      "Try using .loc[row_indexer,col_indexer] = value instead\n",
      "\n",
      "See the caveats in the documentation: https://pandas.pydata.org/pandas-docs/stable/user_guide/indexing.html#returning-a-view-versus-a-copy\n",
      "  df2['DOLocationID'] = df2['DOLocationID'].apply(lambda x:str(x))\n"
     ]
    }
   ],
   "source": [
    "df2['PULocationID'] = df2['PULocationID'].apply(lambda x:str(x))\n",
    "df2['DOLocationID'] = df2['DOLocationID'].apply(lambda x:str(x))\n",
    "df2_location = df2[['PULocationID', 'DOLocationID']]"
   ]
  },
  {
   "cell_type": "code",
   "execution_count": 19,
   "id": "b965f8bd",
   "metadata": {},
   "outputs": [
    {
     "data": {
      "text/plain": [
       "(2855951, 515)"
      ]
     },
     "execution_count": 19,
     "metadata": {},
     "output_type": "execute_result"
    }
   ],
   "source": [
    "loc_dict = df2_location.to_dict('records')\n",
    "X_val = vectorizer.transform(loc_dict)\n",
    "X_val.shape"
   ]
  },
  {
   "cell_type": "code",
   "execution_count": 20,
   "id": "50951c7a",
   "metadata": {},
   "outputs": [],
   "source": [
    "y_val = np.array(df2['duration'])"
   ]
  },
  {
   "cell_type": "code",
   "execution_count": 25,
   "id": "83c8158e",
   "metadata": {},
   "outputs": [
    {
     "data": {
      "text/plain": [
       "7.811835500559634"
      ]
     },
     "execution_count": 25,
     "metadata": {},
     "output_type": "execute_result"
    }
   ],
   "source": [
    "y_val_pred = lr.predict(X_val)\n",
    "mse_val = mean_squared_error(y_val_pred, y_val)\n",
    "np.sqrt(mse_val)"
   ]
  },
  {
   "cell_type": "code",
   "execution_count": null,
   "id": "a75474e0",
   "metadata": {},
   "outputs": [],
   "source": []
  }
 ],
 "metadata": {
  "kernelspec": {
   "display_name": "Python 3 (ipykernel)",
   "language": "python",
   "name": "python3"
  },
  "language_info": {
   "codemirror_mode": {
    "name": "ipython",
    "version": 3
   },
   "file_extension": ".py",
   "mimetype": "text/x-python",
   "name": "python",
   "nbconvert_exporter": "python",
   "pygments_lexer": "ipython3",
   "version": "3.9.12"
  }
 },
 "nbformat": 4,
 "nbformat_minor": 5
}
